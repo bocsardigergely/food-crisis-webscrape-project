{
 "metadata": {
  "language_info": {
   "codemirror_mode": {
    "name": "ipython",
    "version": 3
   },
   "file_extension": ".py",
   "mimetype": "text/x-python",
   "name": "python",
   "nbconvert_exporter": "python",
   "pygments_lexer": "ipython3",
   "version": "3.8.3-final"
  },
  "orig_nbformat": 2,
  "kernelspec": {
   "name": "python3",
   "display_name": "Python 3.8.3 64-bit (conda)",
   "metadata": {
    "interpreter": {
     "hash": "b3ba2566441a7c06988d0923437866b63cedc61552a5af99d1f4fb67d367b25f"
    }
   }
  }
 },
 "nbformat": 4,
 "nbformat_minor": 2,
 "cells": [
  {
   "cell_type": "code",
   "execution_count": 1,
   "metadata": {},
   "outputs": [],
   "source": [
    "import requests\n",
    "from bs4 import BeautifulSoup\n",
    "import numpy as np\n",
    "import pandas as pd\n",
    "import time"
   ]
  },
  {
   "cell_type": "code",
   "execution_count": 5,
   "metadata": {},
   "outputs": [
    {
     "output_type": "stream",
     "name": "stdout",
     "text": [
      "2021.02.09. https://www.spar.hu/sajtokapcsolat/2021/hungaricool-by-sparversenyzokacapakkoezoettinnovativmagyartermek\n2021.01.05. https://www.spar.hu/sajtokapcsolat/2021/megszulettek-a-2021-es-berek-a-sparnal\n2020.12.22. https://www.spar.hu/sajtokapcsolat/2020/tizezer-csaladnaksegitazadnioroemakcio\n2020.12.16. https://www.spar.hu/sajtokapcsolat/2020/adni-oroem-indulamagyarmaltaiszeretetszolgalatesasparjotekonysag\n2020.12.03. https://www.spar.hu/sajtokapcsolat/2020/tovabb-bovuel-a-sparelektromosautotoeltohalozata\n2020.11.26. https://www.spar.hu/sajtokapcsolat/2020/csaknem-3-milliardforintosberuhazasasparnalketujszupermarketetny\n2020.11.25. https://www.spar.hu/sajtokapcsolat/2020/kezdodnek-az-uennepibevasarlasokszelesarukinalattalkeszueltfelas\n2020.11.18. https://www.spar.hu/sajtokapcsolat/2020/feltoerekvo-magyarbeszallitokatkeresaspar\n2020.11.11. https://www.spar.hu/sajtokapcsolat/2020/a-hazai-termekeketnepszerusitiaspar\n2020.11.05. https://www.spar.hu/sajtokapcsolat/2020/vedjegyhasznalatijogotkaptakasparregnumhusuezemenektermekei\n2020.11.02. https://www.spar.hu/sajtokapcsolat/2020/ujabb-uezemmel-erositasparamagyarhuspiacon\n2020.10.28. https://www.spar.hu/sajtokapcsolat/2020/2-7-milliard-forintbolepueltmegasparujberuhazasatoeroekbalinton\n2020.10.16. https://www.spar.hu/sajtokapcsolat/2020/a-futofesztivalongyujtoettadomanyoksegitikamagyarmaltaiszeretets\n2020.10.05. https://www.spar.hu/sajtokapcsolat/2020/nem-szakad-meg-ahagyomany2020oktober1011enmegrendezika35sparbuda\n2020.09.29. https://www.spar.hu/sajtokapcsolat/2020/hogyan-legyek-koernyezettudatosvasarlo\n2020.09.24. https://www.spar.hu/sajtokapcsolat/2020/1-56-milliard-forintbolmodernizaltaharomaruhazataspar\n2020.09.16. https://www.spar.hu/sajtokapcsolat/2020/kezfertotlenito-allomasokattelepitaspar\n2020.09.08. https://www.spar.hu/sajtokapcsolat/2020/4-5-milliard-forintbolbovitibicskeiesuelloilogisztikaikoezpontja\n2020.08.28. https://www.spar.hu/sajtokapcsolat/2020/megnyitotta-ketszazadikafranchiseuezletetasparmagyarorszag\n2020.08.27. https://www.spar.hu/sajtokapcsolat/2020/toebb-mint-egymilliardforintbolujultmegalsopahokonesrmezonegyegy\n2020.08.26. https://www.spar.hu/sajtokapcsolat/2020/budapest-borfesztivallimited2020\n2020.08.26. https://www.spar.hu/sajtokapcsolat/2020/nyitott-a-spar-azegyuettmukoedesreahazaielelmiszereloallitokkal\n2020.08.11. https://www.spar.hu/sajtokapcsolat/2020/az-idei-tanevkezdesreisszelestanszervalasztekasparban\n2020.08.10. https://www.spar.hu/sajtokapcsolat/2020/mar-a-megrendelesnapjaniskiszallitasparonlineshop\n2020.08.05. https://www.spar.hu/sajtokapcsolat/2020/ismet-bovuelt-a-sparkoernyezetbaratcsomagolotermekeinekkinalata\n2020.07.14. https://www.spar.hu/sajtokapcsolat/2020/mar-a-velencei-tokoernyekeniselerhetoasparonlineshophazhozszalli\n2020.07.06. https://www.spar.hu/sajtokapcsolat/2020/a-spar-online-shopjagarantaljaapontoskiszallitast1000forintoskup\n2020.07.02. https://www.spar.hu/sajtokapcsolat/2020/drive-in-atvetelleltatabanyaiscsatlakozikasparonlineshophoz\n2020.06.25. https://www.spar.hu/sajtokapcsolat/2020/uj-koernyezetbaratcsomagolotermekeketkinalaspar\n2020.06.18. https://www.spar.hu/sajtokapcsolat/2020/-az-ev-zoeld-kereskedojeasparmagyarorszagatataiintersparazevbolt\n2020.06.16. https://www.spar.hu/sajtokapcsolat/2020/tavaly-toebb-mint1milliardforintertekugrilltermeketertekesitetta\n2020.06.11. https://www.spar.hu/sajtokapcsolat/2020/ujrahasznositottanyagokbolkeszuelotermekekasparkinalataban\n2020.06.05. https://www.spar.hu/sajtokapcsolat/2020/a-minoseg-elismeresemar11alkalommalsuperbrandsdijasaspar\n2020.06.04. https://www.spar.hu/sajtokapcsolat/2020/supershop-pontgyujtesesszamoskenyelmiszolgaltatasamysparapplikac\n2020.05.18. https://www.spar.hu/sajtokapcsolat/2020/mar-a-spar-teljesuezlethalozatabanelerhetoekatoebbszoerhasznalat\n2020.05.07. https://www.spar.hu/sajtokapcsolat/2020/koezel-felmilliardforintbolmodernizaltanagyatadiesdunafoeldvaris\n2020.04.23. https://www.spar.hu/sajtokapcsolat/2020/-magyar-termelokpiacrajutasatsegitiaspar\n2020.04.22. https://www.spar.hu/sajtokapcsolat/2020/tovabbi-toebb-mint25tonnavalcsoekkentiasparamuanyaghulladekot\n2020.04.09. https://www.spar.hu/sajtokapcsolat/2020/megkezdodoett-a-kaposvariintersparhipermarketepitese\n2020.04.08. https://www.spar.hu/sajtokapcsolat/2020/az-unicef-gyermekvedelmiprogramjatistamogatjaasparajarvanyuegyid\n2020.04.07. https://www.spar.hu/sajtokapcsolat/2020/egyszer-hasznalatosfoliakesztyutbiztositvasarloinakaspar\n2020.04.06. https://www.spar.hu/sajtokapcsolat/2020/mar-taxival-is-hazhozviszikasparnalleadottrendeleseket\n2020.04.02. https://www.spar.hu/sajtokapcsolat/2020/egy-videki-hipermarketetesharomszupermarketetmodernizaltasparmin\n2020.04.02. https://www.spar.hu/sajtokapcsolat/2020/munkavallalokat-veszatasparmasszektorokbol\n2020.03.30. https://www.spar.hu/sajtokapcsolat/2020/a-spar-segiti-a-jarvanyuegyidolgozoketkezesetazetesdadokitcivilk\n2020.03.26. https://www.spar.hu/sajtokapcsolat/2020/uj-nyitvatartasirendestovabbiovintezkedesekasparnal\n2020.03.10. https://www.spar.hu/sajtokapcsolat/2020/toebb-mint-230-tonnakoetoezoettsonkavalkeszuelahusvetraaspar\n2020.03.05. https://www.spar.hu/sajtokapcsolat/2020/25-eves-sikertoertenetetuennepliazintersparmagyarorszagon\n2020.02.13. https://www.spar.hu/sajtokapcsolat/2020/markas-parfumokaspartavaszihusegakciojaban\n2020.02.03. https://www.spar.hu/sajtokapcsolat/2020/az-nkm-elektromosautotoeltohalozatahozcsatlakozottaspar\n2020.01.22. https://www.spar.hu/sajtokapcsolat/2020/csaknem-155-millioforintotforditott2019bentarsadalmiuegyekreaspa\n2020.01.16. https://www.spar.hu/sajtokapcsolat/2020/lebomlo-viragcserepekkelcsoekkentimuanyagfelhasznalasataspar\n2020.01.13. https://www.spar.hu/sajtokapcsolat/2020/a-fenntarthato-joevomellettkoetelezteelmagataspar\n2020.01.09. https://www.spar.hu/sajtokapcsolat/2020/megszuelettek-a-2020asberekasparnal\n2019.12.27. https://www.spar.hu/sajtokapcsolat/2019/csaknem-ezer-tonnavirslivelkeszuelasparszilveszterre\n2019.12.19. https://www.spar.hu/sajtokapcsolat/2019/rekordmennyiseg-gyultoesszetoebbmint327tonnaelelmiszertadomanyoz\n2019.12.17. https://www.spar.hu/sajtokapcsolat/2019/a-magyar-maltai-szeretetszolgalatkezmuvestermekeitkinaljaaspar\n2019.12.16. https://www.spar.hu/sajtokapcsolat/2019/koernyezetbarat-pekarutasakokazinterspararuhazakban\n2019.12.12. https://www.spar.hu/sajtokapcsolat/2019/adni-oroem-koezoessegetepitettamagyarmaltaiszeretetszolgalatesas\n2019.12.06. https://www.spar.hu/sajtokapcsolat/2019/megrendeztek-a-sparelsouzsinapjat\n2019.12.02. https://www.spar.hu/sajtokapcsolat/2019/toebbszoer-hasznalatosszilikonfedelekazinterspararuhazakban\n2019.11.28. https://www.spar.hu/sajtokapcsolat/2019/toebb-mint-1-2-milliardforintbolujitottamegharomvidekiaruhazatas\n2019.11.27. https://www.spar.hu/sajtokapcsolat/2019/koezel-400-tonnaszaloncukorralkeszuelakaracsonyraaspar\n2019.11.13. https://www.spar.hu/sajtokapcsolat/2019/dokumentumfilm-mutatjabeajankatanyaautistafiataljait\n2019.11.04. https://www.spar.hu/sajtokapcsolat/2019/toebb-mint-1-8-milliardforintbolujultmegnegysparszupermarket\n2019.10.30. https://www.spar.hu/sajtokapcsolat/2019/het-eve-sikeres-asparpartnerprogram\n2019.10.28. https://www.spar.hu/sajtokapcsolat/2019/800-tanulo-szakmaigyakorlatarolgondoskodikaspar\n2019.10.21. https://www.spar.hu/sajtokapcsolat/2019/rangos-szakmai-elismeresekkeljutalmaztakaspart\n2019.10.17. https://www.spar.hu/sajtokapcsolat/2019/a-szueloknek-segitelkesziteniazuzsonnatasparprogramja\n2019.10.16. https://www.spar.hu/sajtokapcsolat/2019/ujabb-14-uezletebentelepitoenkiszolgalokasszakataspar\n2019.10.14. https://www.spar.hu/sajtokapcsolat/2019/koernyezetbarat-vaszontaskakamagyarmaltaiszeretetszolgalatjavara\n2019.10.11. https://www.spar.hu/sajtokapcsolat/2019/csucsminosegu-eszkoezoekkelsegitfelszerelniakonyhataspar\n2019.10.10. https://www.spar.hu/sajtokapcsolat/2019/kaposvaron-epuelfela35intersparhipermarket\n2019.10.10. https://www.spar.hu/sajtokapcsolat/2019/toeroekbalinton-epitujszupermarketetaspar\n2019.10.07. https://www.spar.hu/sajtokapcsolat/2019/kevesebb-muanyagasparnal\n2019.09.30. https://www.spar.hu/sajtokapcsolat/2019/iden-is-toebb-tizezrenlatogattakelasparbudapestmaratonfesztivalr\n2019.09.30. https://www.spar.hu/sajtokapcsolat/2019/meglepo-izkombinaciokesujszerutermekoetletekaspartermekinnovacio\n2019.09.18. https://www.spar.hu/sajtokapcsolat/2019/felmilliard-futolepesbudapesten\n2019.09.10. https://www.spar.hu/sajtokapcsolat/2019/koernyezetbarat-zoeldseggyuemoelcstasakokatvezetbeaspar\n2019.08.29. https://www.spar.hu/sajtokapcsolat/2019/uj-es-megujulo-sparszupermarketekadunaplazabanestatabanyan\n2019.08.28. https://www.spar.hu/sajtokapcsolat/2019/28-budapest-borfesztival2019szeptember58koezoettabudaivarterasza\n2019.08.26. https://www.spar.hu/sajtokapcsolat/2019/sajtokoezlemeny-spargyakorlatikepzesazirodaimunkatarsaknak\n2019.08.15. https://www.spar.hu/sajtokapcsolat/2019/kavehazi-hangulatotvarazsolazotthonokbaaspar\n2019.07.29. https://www.spar.hu\n2019.07.11. https://www.spar.hu\n2019.07.01. https://www.spar.hu\n2019.06.24. https://www.spar.hu\n2019.06.20. https://www.spar.hu/sajto/magyarorszag-latvanyossagaitfedezhetikfelagyerekekasparral\n2019.06.18. https://www.spar.hu/sajto/ujabb-szakmai-elismeresekasparnak\n2019.06.13. https://www.spar.hu/sajto/a-spar-termekinnovaciosversenythirdethazaigyartasuelelmiszerekne\n2019.06.11. https://www.spar.hu/sajto/atfogo-socsoekkentoprogramotinditottaspar\n2019.06.05. https://www.spar.hu/sajto/interspar-nyilt-42milliardforintboltatan\n2019.06.03. https://www.spar.hu/sajto/elektromosauto-toeltokettelepithazaiaruhazaihozaspar\n2019.05.28. https://www.spar.hu/sajto/wossala-rozinavalinditjaagrillszezontaspar\n2019.05.08. https://www.spar.hu/sajto/megnyitott-a-sparonlineshopja\n2019.05.06. https://www.spar.hu/sajto/megujult-a-spar-segitokezekweboldal\n2019.04.24. https://www.spar.hu/sajto/suetobol-az-asztalrazwillingkonyhaikellekekasparhusegpromociojab\n2019.04.15. https://www.spar.hu/sajto/hatrannyal-elo-embertarsainknakbiztositmunkataspar\n2019.04.11. https://www.spar.hu/sajto/toebb-mint-750-millioforintbolkorszerusitetteketuezletetaspar\n2019.04.09. https://www.spar.hu/sajto/felkeszuelt-a-grillszezonraaspar\n2019.04.04. https://www.spar.hu/sajto/50-tonnaval-csoekkentiacukortartalmatsajatmarkastermekeibenaspar\n2019.04.02. https://www.spar.hu/sajto/vasarloival-egyuettleszegyrezoeldebbvallalataspar\n2019.03.27. https://www.spar.hu/sajto/koezel-10-os-noevekedestoebbmint617milliardforintforgalmatrealiz\n2019.03.25. https://www.spar.hu/sajto/toebb-mint-200-tonnasonkavalkeszuelahusvetraaspar\n2019.03.20. https://www.spar.hu/sajto/ujrahasznalhato-tasakokasparban\n2019.03.13. https://www.spar.hu/sajto/a-spar-szivuegyenektekintiatarsadalmifelelossegvallalast\n2019.03.11. https://www.spar.hu/sajto/a-spar-termekadomanyokkaltamogatjaahazaiallatvedelmet\n2019.03.07. https://www.spar.hu/sajto/15-eves-a-spar-sajathusuezemearegnumhusuezemesoktatokoezpont\n2019.03.06. https://www.spar.hu/sajto/koernyezetkimelomegoldasokasparnal\n2019.02.14. https://www.spar.hu/sajto/otthonszepites-asparral\n2019.01.18. https://www.spar.hu/sajto/hipermarketekbenkampanyolazelelmiszerpazarlasellenaspar\n2019.01.10. https://www.spar.hu/sajto/megegyezes-szueletetta2019esberekrolasparnal\n"
     ]
    }
   ],
   "source": [
    "r1 = requests.get('https://www.spar.hu/sajtokapcsolat')\n",
    "coverpage = r1.content\n",
    "soup1 = BeautifulSoup(coverpage, 'html5lib')\n",
    "\n",
    "coverpage_news = soup1.find_all('div', class_=\"accordion__inner-container\")\n",
    "tables = coverpage_news[1].find_all('tr')\n",
    "links = []\n",
    "dates = []\n",
    "\n",
    "for i in range(3):\n",
    "    tables = coverpage_news[i].find_all('tr')\n",
    "    for m in range(len(tables)):\n",
    "        dates.append(tables[m].find_all('td')[0].get_text())\n",
    "        link = tables[m].find_all('td')[1].find('a').get('href','')\n",
    "        if link.startswith('https://www.spar.hu'):\n",
    "            links.append(link)\n",
    "        else:\n",
    "            links.append('https://www.spar.hu' + str(tables[m].find_all('td')[1].find('a').get('href','')))\n",
    "\n",
    "for t in range(len(links)):\n",
    "    print(dates[t], links[t])\n"
   ]
  },
  {
   "cell_type": "code",
   "execution_count": 9,
   "metadata": {},
   "outputs": [
    {
     "output_type": "stream",
     "name": "stdout",
     "text": [
      "1/112 0.3633608818054199\n",
      "2/112 0.6852116584777832\n",
      "3/112 1.0234653949737549\n",
      "4/112 1.3641788959503174\n",
      "5/112 1.79044771194458\n",
      "6/112 2.2244274616241455\n",
      "7/112 2.5613865852355957\n",
      "8/112 2.878070831298828\n",
      "9/112 3.2162728309631348\n",
      "10/112 3.555466413497925\n",
      "11/112 3.886045455932617\n",
      "12/112 4.240065336227417\n",
      "13/112 4.582056760787964\n",
      "14/112 5.021053075790405\n",
      "15/112 5.350181579589844\n",
      "16/112 5.718207597732544\n",
      "17/112 6.088108777999878\n",
      "18/112 6.422989130020142\n",
      "19/112 6.807066440582275\n",
      "20/112 7.20889139175415\n",
      "21/112 7.606039762496948\n",
      "22/112 7.922076940536499\n",
      "23/112 8.259984731674194\n",
      "24/112 8.690366268157959\n",
      "25/112 9.031055688858032\n",
      "26/112 9.389430522918701\n",
      "27/112 9.715163469314575\n",
      "28/112 10.03087830543518\n",
      "29/112 10.34101939201355\n",
      "30/112 10.769430875778198\n",
      "31/112 11.121992111206055\n",
      "32/112 11.503966808319092\n",
      "33/112 11.825157880783081\n",
      "34/112 12.25396728515625\n",
      "35/112 12.61739468574524\n",
      "36/112 12.95840859413147\n",
      "37/112 13.293002605438232\n",
      "38/112 13.633021831512451\n",
      "39/112 14.032978057861328\n",
      "40/112 14.372057914733887\n",
      "41/112 14.722162246704102\n",
      "42/112 15.066023588180542\n",
      "43/112 15.493967294692993\n",
      "44/112 15.808312892913818\n",
      "45/112 16.178235292434692\n",
      "46/112 16.523198127746582\n",
      "47/112 16.84617781639099\n",
      "48/112 17.19689178466797\n",
      "49/112 17.594117403030396\n",
      "50/112 18.002386331558228\n",
      "51/112 18.370211124420166\n",
      "52/112 18.711063623428345\n",
      "53/112 19.172333240509033\n",
      "54/112 19.495415210723877\n",
      "55/112 19.835045337677002\n",
      "56/112 20.19613242149353\n",
      "57/112 20.532201528549194\n",
      "58/112 20.855050563812256\n",
      "59/112 21.194148302078247\n",
      "60/112 21.53016209602356\n",
      "61/112 21.859100341796875\n",
      "62/112 22.38814949989319\n",
      "63/112 22.745062351226807\n",
      "64/112 23.142135620117188\n",
      "65/112 23.498403549194336\n",
      "66/112 23.828449726104736\n",
      "67/112 24.218252182006836\n",
      "68/112 24.629429817199707\n",
      "69/112 24.954195022583008\n",
      "70/112 25.288016319274902\n",
      "71/112 25.684226989746094\n",
      "72/112 26.011008262634277\n",
      "73/112 26.347222805023193\n",
      "74/112 26.686415195465088\n",
      "75/112 27.029191732406616\n",
      "76/112 27.366385221481323\n",
      "77/112 27.791348457336426\n",
      "78/112 28.119462490081787\n",
      "79/112 28.530165910720825\n",
      "80/112 29.140054941177368\n",
      "81/112 29.467270612716675\n",
      "82/112 29.793256521224976\n",
      "83/112 30.233216762542725\n",
      "84/112 30.56029224395752\n",
      "85/112 30.890610456466675\n",
      "86/112 31.203211545944214\n",
      "87/112 31.541258573532104\n",
      "88/112 31.899263858795166\n",
      "89/112 32.16728186607361\n",
      "90/112 32.4872190952301\n",
      "91/112 32.749988317489624\n",
      "92/112 33.16606116294861\n",
      "93/112 33.4503915309906\n",
      "94/112 33.74016809463501\n",
      "95/112 34.06824707984924\n",
      "96/112 34.47420859336853\n",
      "97/112 34.81201362609863\n",
      "98/112 35.10538721084595\n",
      "99/112 35.41622877120972\n",
      "100/112 35.69122052192688\n",
      "101/112 35.96700692176819\n",
      "102/112 36.221139430999756\n",
      "103/112 36.54442071914673\n",
      "104/112 36.90134811401367\n",
      "105/112 37.35236597061157\n",
      "106/112 37.63410472869873\n",
      "107/112 37.88617730140686\n",
      "108/112 38.16321849822998\n",
      "109/112 38.437042236328125\n",
      "110/112 38.704143047332764\n",
      "111/112 38.997180700302124\n",
      "112/112 39.265082359313965\n"
     ]
    }
   ],
   "source": [
    "cikkek_adatai = []\n",
    "start = time.time()\n",
    "counter = 0\n",
    "for m in links:\n",
    "    # link\n",
    "    article = requests.get(m)\n",
    "    article_content = article.content\n",
    "    soup_article = BeautifulSoup(article_content, 'html5lib')\n",
    "\n",
    "    #date\n",
    "    date = dates[counter]\n",
    "    \n",
    "    # cím\n",
    "    title_raw = soup_article.select(\"h1\")\n",
    "    if len(title_raw)>0:\n",
    "        title = title_raw[0].get_text()\n",
    "        title = title.strip()\n",
    "\n",
    "    # törzsszöveg\n",
    "    body = soup_article.find('div', class_=\"text__paragraph\")\n",
    "    if body is not None:\n",
    "        x = body.select('p')\n",
    "        list_paragraphs = []\n",
    "        for p in np.arange(1, len(x)):\n",
    "            paragraph = x[p].get_text()\n",
    "            list_paragraphs.append(paragraph)\n",
    "            final_article = \" \".join(list_paragraphs)\n",
    "    \n",
    "    # putting it together\n",
    "    cikkek_adatai.append([date, title, final_article, m])\n",
    "    end = time.time()\n",
    "    counter += 1\n",
    "    print(str(counter) + '/' + str(len(links)), end - start)\n",
    "\n",
    "\n"
   ]
  },
  {
   "cell_type": "code",
   "execution_count": 8,
   "metadata": {},
   "outputs": [
    {
     "output_type": "execute_result",
     "data": {
      "text/plain": [
       "27"
      ]
     },
     "metadata": {},
     "execution_count": 8
    }
   ],
   "source": [
    "len(cikkek_adatai)"
   ]
  },
  {
   "cell_type": "code",
   "execution_count": 10,
   "metadata": {},
   "outputs": [],
   "source": [
    "df = pd.DataFrame(data=cikkek_adatai)\n",
    "df.columns = ['dátum','cím', 'szöveg', 'link']\n",
    "with pd.ExcelWriter('spar.xlsx') as writer:  \n",
    "    df.to_excel(writer, sheet_name='hu')"
   ]
  },
  {
   "cell_type": "code",
   "execution_count": null,
   "metadata": {},
   "outputs": [],
   "source": []
  }
 ]
}