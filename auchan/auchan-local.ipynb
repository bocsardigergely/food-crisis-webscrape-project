{
 "metadata": {
  "language_info": {
   "codemirror_mode": {
    "name": "ipython",
    "version": 3
   },
   "file_extension": ".py",
   "mimetype": "text/x-python",
   "name": "python",
   "nbconvert_exporter": "python",
   "pygments_lexer": "ipython3",
   "version": "3.8.3-final"
  },
  "orig_nbformat": 2,
  "kernelspec": {
   "name": "python3",
   "display_name": "Python 3.8.3 64-bit (conda)",
   "metadata": {
    "interpreter": {
     "hash": "b3ba2566441a7c06988d0923437866b63cedc61552a5af99d1f4fb67d367b25f"
    }
   }
  }
 },
 "nbformat": 4,
 "nbformat_minor": 2,
 "cells": [
  {
   "cell_type": "code",
   "execution_count": 1,
   "metadata": {},
   "outputs": [],
   "source": [
    "import requests\n",
    "from bs4 import BeautifulSoup\n",
    "import numpy as np\n",
    "import pandas as pd\n",
    "import time"
   ]
  },
  {
   "cell_type": "code",
   "execution_count": 2,
   "metadata": {},
   "outputs": [
    {
     "output_type": "execute_result",
     "data": {
      "text/plain": [
       "['https://www.auchan.hu/reszletek/sajtoszoba/a-mikulasgyar-2020-as-evi-zaro-sajtokozlemenye',\n",
       " 'https://www.auchan.hu/reszletek/sajtoszoba/iden-nem-egy-hanem-24-mikulasgyar-lesz',\n",
       " 'https://www.auchan.hu/reszletek/sajtoszoba/egyetemi-hallgatok-vacsorazhatnak-az-auchan-vezerigazgatojaval',\n",
       " 'https://www.auchan.hu/reszletek/sajtoszoba/az-auchan-tanszergyujtesevel-1-700-csaladban-lett-konnyebb-a-tanevkezdes',\n",
       " 'https://www.auchan.hu/reszletek/sajtoszoba/elismeres-a-kornyezetbarat-fejlesztesekert',\n",
       " 'https://www.auchan.hu/reszletek/sajtoszoba/nivodijat-kapott-az-auchan-a-hazai-termekek-nepszerusiteseert',\n",
       " 'https://www.auchan.hu/reszletek/sajtoszoba/friss-aru-kulondijjal-ismertek-el-minosegi-kinalatunkat',\n",
       " 'https://www.auchan.hu/reszletek/sajtoszoba/levasarolhato-tamogatast-kapott-az-orszagos-mentoszolgalat-az-auchantol',\n",
       " 'https://www.auchan.hu/reszletek/sajtoszoba/az-azonnali-zoldmegoldasok-mellett-dontott-az-auchan',\n",
       " 'https://www.auchan.hu/reszletek/sajtoszoba/segitsegre-valtja-a-bizalmat-az-auchan',\n",
       " 'https://www.auchan.hu/reszletek/sajtoszoba/plusshoddal-gyujtott-21-millio-forintot-az-auchan',\n",
       " 'https://www.auchan.hu/reszletek/sajtoszoba/tobb-mint-haromezer-kisiskolas-jutott-tanszercsomaghoz-az-auchan-jotekonysagi-akciojaban',\n",
       " 'https://www.auchan.hu/reszletek/sajtoszoba/indul-az-iskolakezdesi-bevasarlo-szezon-egyre-fontosabb-a-minoseg-es-a-kornyezettudatossag-tanszervalasztaskor',\n",
       " 'https://www.auchan.hu/reszletek/sajtoszoba/tanszergyujtessel-segitjuk-iden-is-a-nagycsaladosok-iskolakezdeset',\n",
       " 'https://www.auchan.hu/reszletek/sajtoszoba/a-magyar-termeloket-segiti-az-auchan-a-nemzeti-agrargazdasagi-kamaraval-kozosen-tamogatjak-a-hazai-gazdasagok-piacra-lepeset',\n",
       " 'https://www.auchan.hu/reszletek/sajtoszoba/parasportolo-fiataloknak-szerveztek-orszagos-bajnoksagot-az-auchan-tamogatasaval',\n",
       " 'https://www.auchan.hu/reszletek/sajtoszoba/ev-fogyasztovedelmi-referense-dijat-nyert-az-auchan',\n",
       " 'https://www.auchan.hu/reszletek/sajtoszoba/beremeles-az-auchannal-1']"
      ]
     },
     "metadata": {},
     "execution_count": 2
    }
   ],
   "source": [
    "link_list = []\n",
    "years = [2020, 2019]\n",
    "for year in years:\n",
    "    link = 'https://www.auchan.hu/sajtoszoba/' + str(year)\n",
    "    r1 = requests.get(link)\n",
    "    coverpage = r1.content\n",
    "    soup1 = BeautifulSoup(coverpage, 'html5lib')\n",
    "    coverpage_news = soup1.find_all('div', class_=\"col-md-4 item\")\n",
    "    for l in range(len(coverpage_news)):\n",
    "        link_list.append(coverpage_news[l].find('a')['href'])\n",
    "    \n",
    "link_list"
   ]
  },
  {
   "cell_type": "code",
   "execution_count": 4,
   "metadata": {},
   "outputs": [
    {
     "output_type": "stream",
     "name": "stdout",
     "text": [
      "1/18 0.2507820129394531\n",
      "2/18 0.46259093284606934\n",
      "3/18 0.6710667610168457\n",
      "4/18 0.9703023433685303\n",
      "5/18 1.1874549388885498\n",
      "6/18 1.399883508682251\n",
      "7/18 1.6103205680847168\n",
      "8/18 1.8118979930877686\n",
      "9/18 2.015869140625\n",
      "10/18 2.2186224460601807\n",
      "11/18 2.498624324798584\n",
      "12/18 2.7331011295318604\n",
      "13/18 3.025327444076538\n",
      "14/18 3.3235151767730713\n",
      "15/18 3.557640790939331\n",
      "16/18 3.8398499488830566\n",
      "17/18 4.123430490493774\n",
      "18/18 4.396734237670898\n"
     ]
    }
   ],
   "source": [
    "cikkek_adatai = []\n",
    "start = time.time()\n",
    "counter = 0\n",
    "for m in link_list:\n",
    "    # link\n",
    "    article = requests.get(m)\n",
    "    article_content = article.content\n",
    "    soup_article = BeautifulSoup(article_content, 'html5lib')\n",
    "\n",
    "    # cím\n",
    "    title_raw = soup_article.select(\"h1\")\n",
    "    title = title_raw[0].get_text()\n",
    "\n",
    "    # törzsszöveg\n",
    "    body = soup_article.find('div', class_=\"col-md-9 content\")\n",
    "    x = body.select('p')\n",
    "    list_paragraphs = []\n",
    "    for p in np.arange(1, len(x)):\n",
    "        paragraph = x[p].get_text()\n",
    "        list_paragraphs.append(paragraph)\n",
    "        final_article = \" \".join(list_paragraphs)\n",
    "    \n",
    "    # putting it together\n",
    "    cikkek_adatai.append([title, final_article, m])\n",
    "    end = time.time()\n",
    "    counter += 1\n",
    "    print(str(counter) + '/' + str(len(link_list)), end - start)\n",
    "\n"
   ]
  },
  {
   "cell_type": "code",
   "execution_count": 5,
   "metadata": {},
   "outputs": [],
   "source": [
    "df = pd.DataFrame(data=cikkek_adatai)\n",
    "df.columns = ['cím', 'szöveg', 'link']\n",
    "with pd.ExcelWriter('auchan.xlsx') as writer:  \n",
    "    df.to_excel(writer, sheet_name='hu')"
   ]
  },
  {
   "cell_type": "code",
   "execution_count": null,
   "metadata": {},
   "outputs": [],
   "source": []
  }
 ]
}