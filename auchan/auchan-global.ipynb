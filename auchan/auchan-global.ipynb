{
 "metadata": {
  "language_info": {
   "codemirror_mode": {
    "name": "ipython",
    "version": 3
   },
   "file_extension": ".py",
   "mimetype": "text/x-python",
   "name": "python",
   "nbconvert_exporter": "python",
   "pygments_lexer": "ipython3",
   "version": "3.8.3-final"
  },
  "orig_nbformat": 2,
  "kernelspec": {
   "name": "python3",
   "display_name": "Python 3.8.3 64-bit (conda)",
   "metadata": {
    "interpreter": {
     "hash": "b3ba2566441a7c06988d0923437866b63cedc61552a5af99d1f4fb67d367b25f"
    }
   }
  }
 },
 "nbformat": 4,
 "nbformat_minor": 2,
 "cells": [
  {
   "cell_type": "code",
   "execution_count": 2,
   "metadata": {},
   "outputs": [],
   "source": [
    "import requests\n",
    "from bs4 import BeautifulSoup\n",
    "import numpy as np\n",
    "import pandas as pd\n",
    "import time"
   ]
  },
  {
   "cell_type": "code",
   "execution_count": 14,
   "metadata": {},
   "outputs": [
    {
     "output_type": "execute_result",
     "data": {
      "text/plain": [
       "35"
      ]
     },
     "metadata": {},
     "execution_count": 14
    }
   ],
   "source": [
    "link_list = []\n",
    "pages = [1,2,3]\n",
    "for page in pages:\n",
    "    link = 'https://www.auchan-retail.com/en/category/news/page/' + str(page)\n",
    "    r1 = requests.get(link, verify=False)\n",
    "    coverpage = r1.content\n",
    "    soup1 = BeautifulSoup(coverpage, 'html5lib')\n",
    "    coverpage_news = soup1.find_all('h2', class_=\"card-title\")\n",
    "    for l in range(len(coverpage_news)):\n",
    "        link_list.append(coverpage_news[l].find('a')['href'])\n",
    "    \n",
    "len(link_list)"
   ]
  },
  {
   "cell_type": "code",
   "execution_count": 13,
   "metadata": {},
   "outputs": [
    {
     "output_type": "stream",
     "name": "stdout",
     "text": [
      "1/35 0.3186955451965332\n",
      "2/35 0.6418747901916504\n",
      "3/35 1.4216623306274414\n",
      "4/35 1.742830514907837\n",
      "5/35 2.0406908988952637\n",
      "6/35 2.374915361404419\n",
      "7/35 2.6806654930114746\n",
      "8/35 3.0177276134490967\n",
      "9/35 3.3154923915863037\n",
      "10/35 3.6347732543945312\n",
      "11/35 3.9249966144561768\n",
      "12/35 4.242625951766968\n",
      "13/35 4.541562557220459\n",
      "14/35 4.874748468399048\n",
      "15/35 5.275676965713501\n",
      "16/35 5.583889961242676\n",
      "17/35 5.906647205352783\n",
      "18/35 6.22802996635437\n",
      "19/35 6.537843942642212\n",
      "20/35 6.818567514419556\n",
      "21/35 7.124806642532349\n",
      "22/35 7.444416284561157\n",
      "23/35 7.76642370223999\n",
      "24/35 8.062724351882935\n",
      "25/35 8.388601779937744\n",
      "26/35 8.688497543334961\n",
      "27/35 9.006861925125122\n",
      "28/35 9.305930614471436\n",
      "29/35 9.605672597885132\n",
      "30/35 9.918946266174316\n",
      "31/35 10.229663848876953\n",
      "32/35 10.542691469192505\n",
      "33/35 10.87136197090149\n",
      "34/35 11.166925430297852\n",
      "35/35 11.483714580535889\n"
     ]
    }
   ],
   "source": [
    "cikkek_adatai = []\n",
    "start = time.time()\n",
    "counter = 0\n",
    "for m in link_list:\n",
    "    # link\n",
    "    article = requests.get(m, verify=False)\n",
    "    article_content = article.content\n",
    "    soup_article = BeautifulSoup(article_content, 'html5lib')\n",
    "\n",
    "    #date\n",
    "    date_raw = soup_article.select(\"h6\")\n",
    "    date = \" \"\n",
    "    if len(date_raw)>0: \n",
    "        date = date_raw[0].get_text()\n",
    "        date = date.strip()\n",
    "    \n",
    "    # cím\n",
    "    title_raw = soup_article.select(\"h1\")\n",
    "    title = title_raw[0].get_text()\n",
    "\n",
    "    # törzsszöveg\n",
    "    body = soup_article.find('div', class_=\"entry-content\")\n",
    "    x = body.select('p')\n",
    "    list_paragraphs = []\n",
    "    for p in np.arange(1, len(x)):\n",
    "        paragraph = x[p].get_text()\n",
    "        list_paragraphs.append(paragraph)\n",
    "        final_article = \" \".join(list_paragraphs)\n",
    "    \n",
    "    # putting it together\n",
    "    cikkek_adatai.append([date, title, final_article, m])\n",
    "    end = time.time()\n",
    "    counter += 1\n",
    "    print(str(counter) + '/' + str(len(link_list)), end - start)\n",
    "\n"
   ]
  },
  {
   "cell_type": "code",
   "execution_count": 16,
   "metadata": {},
   "outputs": [
    {
     "output_type": "execute_result",
     "data": {
      "text/plain": [
       "35"
      ]
     },
     "metadata": {},
     "execution_count": 16
    }
   ],
   "source": [
    "len(cikkek_adatai)"
   ]
  },
  {
   "cell_type": "code",
   "execution_count": 18,
   "metadata": {},
   "outputs": [],
   "source": [
    "df = pd.DataFrame(data=cikkek_adatai)\n",
    "df.columns = ['dátum','cím', 'szöveg', 'link']\n",
    "with pd.ExcelWriter('auchan_glob.xlsx') as writer:  \n",
    "    df.to_excel(writer, sheet_name='glo')"
   ]
  },
  {
   "cell_type": "code",
   "execution_count": null,
   "metadata": {},
   "outputs": [],
   "source": []
  }
 ]
}