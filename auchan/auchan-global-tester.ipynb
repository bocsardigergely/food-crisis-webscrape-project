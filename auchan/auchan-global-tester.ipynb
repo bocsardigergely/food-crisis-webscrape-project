{
 "metadata": {
  "language_info": {
   "codemirror_mode": {
    "name": "ipython",
    "version": 3
   },
   "file_extension": ".py",
   "mimetype": "text/x-python",
   "name": "python",
   "nbconvert_exporter": "python",
   "pygments_lexer": "ipython3",
   "version": "3.8.3"
  },
  "orig_nbformat": 2,
  "kernelspec": {
   "name": "python3",
   "display_name": "Python 3.8.3 64-bit ('base': conda)",
   "metadata": {
    "interpreter": {
     "hash": "b3ba2566441a7c06988d0923437866b63cedc61552a5af99d1f4fb67d367b25f"
    }
   }
  }
 },
 "nbformat": 4,
 "nbformat_minor": 2,
 "cells": [
  {
   "cell_type": "code",
   "execution_count": 20,
   "metadata": {},
   "outputs": [],
   "source": [
    "import requests\n",
    "from bs4 import BeautifulSoup\n",
    "import numpy as np\n",
    "import pandas as pd"
   ]
  },
  {
   "cell_type": "code",
   "execution_count": 19,
   "metadata": {},
   "outputs": [
    {
     "output_type": "stream",
     "name": "stderr",
     "text": [
      "C:\\ProgramData\\Anaconda3\\lib\\site-packages\\urllib3\\connectionpool.py:979: InsecureRequestWarning: Unverified HTTPS request is being made to host 'www.auchan-retail.com'. Adding certificate verification is strongly advised. See: https://urllib3.readthedocs.io/en/latest/advanced-usage.html#ssl-warnings\n  warnings.warn(\n"
     ]
    }
   ],
   "source": [
    "r1 = requests.get('https://www.auchan-retail.com/en/category/news/', verify=False)\n",
    "coverpage = r1.content\n",
    "soup1 = BeautifulSoup(coverpage, 'html5lib')\n"
   ]
  },
  {
   "cell_type": "code",
   "execution_count": 21,
   "metadata": {},
   "outputs": [
    {
     "output_type": "execute_result",
     "data": {
      "text/plain": [
       "'https://www.auchan-retail.com/en/auchan-retail-reasserts-its-commitment-to-the-fight-against-plastic-pollution-in-the-first-year-of-the-european-plastics-pact/'"
      ]
     },
     "metadata": {},
     "execution_count": 21
    }
   ],
   "source": [
    "coverpage_news = soup1.find_all('h2', class_=\"card-title\")\n",
    "coverpage_news[0].find('a')['href']"
   ]
  },
  {
   "cell_type": "code",
   "execution_count": 22,
   "metadata": {},
   "outputs": [
    {
     "output_type": "stream",
     "name": "stderr",
     "text": [
      "C:\\ProgramData\\Anaconda3\\lib\\site-packages\\urllib3\\connectionpool.py:979: InsecureRequestWarning: Unverified HTTPS request is being made to host 'www.auchan-retail.com'. Adding certificate verification is strongly advised. See: https://urllib3.readthedocs.io/en/latest/advanced-usage.html#ssl-warnings\n  warnings.warn(\n"
     ]
    }
   ],
   "source": [
    "link =coverpage_news[0].find('a')['href']\n",
    "article = requests.get(link, verify=False)"
   ]
  },
  {
   "cell_type": "code",
   "execution_count": 23,
   "metadata": {},
   "outputs": [],
   "source": [
    "article_content = article.content\n",
    "soup_article = BeautifulSoup(article_content, 'html5lib')\n"
   ]
  },
  {
   "cell_type": "code",
   "execution_count": 24,
   "metadata": {},
   "outputs": [
    {
     "output_type": "execute_result",
     "data": {
      "text/plain": [
       "'Auchan Retail reasserts its commitment to the fight against plastic pollution in the first year of the European Plastics Pact'"
      ]
     },
     "metadata": {},
     "execution_count": 24
    }
   ],
   "source": [
    "title_raw = soup_article.select(\"h1\")\n",
    "title = title_raw[0].get_text()\n",
    "title"
   ]
  },
  {
   "cell_type": "code",
   "execution_count": 26,
   "metadata": {},
   "outputs": [
    {
     "output_type": "error",
     "ename": "AttributeError",
     "evalue": "ResultSet object has no attribute 'get_text'. You're probably treating a list of elements like a single element. Did you call find_all() when you meant to call find()?",
     "traceback": [
      "\u001b[1;31m---------------------------------------------------------------------------\u001b[0m",
      "\u001b[1;31mAttributeError\u001b[0m                            Traceback (most recent call last)",
      "\u001b[1;32m<ipython-input-26-0be132b8f899>\u001b[0m in \u001b[0;36m<module>\u001b[1;34m\u001b[0m\n\u001b[0;32m      1\u001b[0m \u001b[0mbody\u001b[0m \u001b[1;33m=\u001b[0m \u001b[0msoup_article\u001b[0m\u001b[1;33m.\u001b[0m\u001b[0mfind\u001b[0m\u001b[1;33m(\u001b[0m\u001b[1;34m'div'\u001b[0m\u001b[1;33m,\u001b[0m \u001b[0mclass_\u001b[0m\u001b[1;33m=\u001b[0m\u001b[1;34m\"entry-content\"\u001b[0m\u001b[1;33m)\u001b[0m\u001b[1;33m\u001b[0m\u001b[1;33m\u001b[0m\u001b[0m\n\u001b[0;32m      2\u001b[0m \u001b[0mtorzsszoveg\u001b[0m \u001b[1;33m=\u001b[0m \u001b[0mbody\u001b[0m\u001b[1;33m.\u001b[0m\u001b[0mfind_all\u001b[0m\u001b[1;33m(\u001b[0m\u001b[1;34m'p'\u001b[0m\u001b[1;33m)\u001b[0m\u001b[1;33m\u001b[0m\u001b[1;33m\u001b[0m\u001b[0m\n\u001b[1;32m----> 3\u001b[1;33m \u001b[0mtorzsszoveg\u001b[0m\u001b[1;33m.\u001b[0m\u001b[0mget_text\u001b[0m\u001b[1;33m(\u001b[0m\u001b[0mstrip\u001b[0m\u001b[1;33m=\u001b[0m\u001b[1;32mTrue\u001b[0m\u001b[1;33m)\u001b[0m\u001b[1;33m\u001b[0m\u001b[1;33m\u001b[0m\u001b[0m\n\u001b[0m",
      "\u001b[1;32mC:\\ProgramData\\Anaconda3\\lib\\site-packages\\bs4\\element.py\u001b[0m in \u001b[0;36m__getattr__\u001b[1;34m(self, key)\u001b[0m\n\u001b[0;32m   2158\u001b[0m     \u001b[1;32mdef\u001b[0m \u001b[0m__getattr__\u001b[0m\u001b[1;33m(\u001b[0m\u001b[0mself\u001b[0m\u001b[1;33m,\u001b[0m \u001b[0mkey\u001b[0m\u001b[1;33m)\u001b[0m\u001b[1;33m:\u001b[0m\u001b[1;33m\u001b[0m\u001b[1;33m\u001b[0m\u001b[0m\n\u001b[0;32m   2159\u001b[0m         \u001b[1;34m\"\"\"Raise a helpful exception to explain a common code fix.\"\"\"\u001b[0m\u001b[1;33m\u001b[0m\u001b[1;33m\u001b[0m\u001b[0m\n\u001b[1;32m-> 2160\u001b[1;33m         raise AttributeError(\n\u001b[0m\u001b[0;32m   2161\u001b[0m             \u001b[1;34m\"ResultSet object has no attribute '%s'. You're probably treating a list of elements like a single element. Did you call find_all() when you meant to call find()?\"\u001b[0m \u001b[1;33m%\u001b[0m \u001b[0mkey\u001b[0m\u001b[1;33m\u001b[0m\u001b[1;33m\u001b[0m\u001b[0m\n\u001b[0;32m   2162\u001b[0m         )\n",
      "\u001b[1;31mAttributeError\u001b[0m: ResultSet object has no attribute 'get_text'. You're probably treating a list of elements like a single element. Did you call find_all() when you meant to call find()?"
     ]
    }
   ],
   "source": [
    "    body = soup_article.find('div', class_=\"entry-content\")\n",
    "    torzsszoveg = body.find_all('p')\n",
    "    torzsszoveg.get_text(strip=True)"
   ]
  },
  {
   "cell_type": "code",
   "execution_count": 33,
   "metadata": {},
   "outputs": [],
   "source": []
  },
  {
   "cell_type": "code",
   "execution_count": 34,
   "metadata": {},
   "outputs": [
    {
     "output_type": "execute_result",
     "data": {
      "text/plain": [
       "'“To offer responsible and quality food to our customers, we reinforced our initiatives in collaboration with InnovaFeed by creating new value chains that respect the environment and animal welfare while preserving the taste of the products. This is how this new swine value chain was born. Meat from this sector will be marketed in our hypermarkets in Hauts-de-France from February 2nd” explains Nicolas Bonnetot, Fresh Food Director at Auchan Retail France.'"
      ]
     },
     "metadata": {},
     "execution_count": 34
    }
   ],
   "source": [
    "final_article"
   ]
  },
  {
   "cell_type": "code",
   "execution_count": null,
   "metadata": {},
   "outputs": [],
   "source": [
    "    date_raw = soup_article.select(\".article-date\")\n",
    "    date = \" \"\n",
    "    if len(date_raw)>0: \n",
    "        date = date_raw[0].get_text()"
   ]
  },
  {
   "cell_type": "code",
   "execution_count": 18,
   "metadata": {},
   "outputs": [
    {
     "output_type": "execute_result",
     "data": {
      "text/plain": [
       "array(['https://www.auchan-retail.com/en/new-accomplishment-for-innovafeed-and-auchans-partnership-launch-of-a-responsible-pork-offering-to-enhance-carbon-footprint-and-animal-welfare-with-insect-oil/',\n",
       "       'https://www.auchan-retail.com/en/auchan2022-episode-1-a-reassuring-and-responsible-offer-with-the-la-note-globale/',\n",
       "       'https://www.auchan-retail.com/en/auchan-retail-sells-its-chinese-subsidiary-sunart-to-its-partner-alibaba/',\n",
       "       'https://www.auchan-retail.com/en/auchan-retail-winning-back-city-centres-with-auchan-pieton/',\n",
       "       'https://www.auchan-retail.com/en/appointments-within-the-worldwide-products-division/',\n",
       "       'https://www.auchan-retail.com/en/stephane-bernardeau-is-appointed-compliance-director-of-auchan-retail/',\n",
       "       'https://www.auchan-retail.com/en/auchan-retail-signs-a-strategic-partnership-with-glovo-in-4-european-countries/',\n",
       "       'https://www.auchan-retail.com/en/100-renewable-energy-supplies-auchan-retail-lays-the-groundwork-for-its-ambition-in-france/',\n",
       "       'https://www.auchan-retail.com/en/auchan-retail-foundations-are-supporting-17-projects-to-combat-covid-19-and-its-consequences/',\n",
       "       'https://www.auchan-retail.com/en/uni-global-union-auchan-retail-and-carrefour-group-have-signed-a-joint-declaration-on-the-implementation-of-good-business-practice-in-response-to-the-health-crisis-caused-by-the-covid-19-pandemic/',\n",
       "       'https://www.auchan-retail.com/en/covid-19-en/',\n",
       "       'https://www.auchan-retail.com/en/auchan-retail-is-expanding-its-commitment-to-the-fight-against-plastic-as-a-signatory-to-the-european-plastics-pact/',\n",
       "       'https://www.auchan-retail.com/en/olivier-malvezin-appointed-chief-digital-officer/',\n",
       "       'https://www.auchan-retail.com/en/thierry-aouizerate-is-appointed-auchan-retails-head-of-food-and-non-food-products-and-international-sourcing/',\n",
       "       'https://www.auchan-retail.com/en/with-its-auchan-2022-business-plan-auchan-retail-is-starting-to-adapt-its-model-its-offer-and-its-organisation-to-the-new-expectations-of-consumers-and-citizens/',\n",
       "       'https://www.auchan-retail.com/en/auchan-retail-has-launched-cosmia-bio-a-range-of-health-and-beauty-products-for-adults-and-babies-100-organic-good-for-the-skin-and-the-environment-and-all-considered-to-be-risk-free/',\n",
       "       'https://www.auchan-retail.com/en/johannes-tholey-will-be-appointed-managing-director-of-auchan-retail-russia/',\n",
       "       'https://www.auchan-retail.com/en/auchan-retail-joins-the-fashion-pact-and-sells-its-first-eco-friendly-inextenso-clothing-line/',\n",
       "       'https://www.auchan-retail.com/en/in-partnership-with-hanshow-technology-auchan-retail-is-putting-its-electronic-shelf-labels-to-new-uses/',\n",
       "       'https://www.auchan-retail.com/en/auchan-retail-has-sealed-deals-in-italy-for-the-sale-of-auchan-s-p-a-to-conad-and-of-its-directly-owned-sicilian-supermarkets-to-the-arena-group/',\n",
       "       'https://www.auchan-retail.com/en/auchan-retail-cage-free-eggs-policy/',\n",
       "       'https://www.auchan-retail.com/en/jean-denis-deweine-is-appointed-chief-executive-officer-of-auchan-retail-france/',\n",
       "       'https://www.auchan-retail.com/en/auchan-retail-unveils-its-third-lifestore-in-luxembourg-an-open-space-concept-connected-to-its-surroundings/',\n",
       "       'https://www.auchan-retail.com/en/auchan-retail-sells-its-italian-subsidiary-to-conad/',\n",
       "       'https://www.auchan-retail.com/en/food-traceability-auchan-retail-launch-blockchain-technology-internationally/',\n",
       "       'https://www.auchan-retail.com/en/horizon-the-new-generation-central-buying-platform-launches-its-1st-french-farming-supply-channel-for-free-range-eggs/',\n",
       "       'https://www.auchan-retail.com/en/the-auchan-kids-christmas-app-is-available-for-download/',\n",
       "       'https://www.auchan-retail.com/en/auchan-retail-new-governance/',\n",
       "       'https://www.auchan-retail.com/en/2018-half-year-results-auchan-holding/',\n",
       "       'https://www.auchan-retail.com/en/spanish-group-dia-joins-the-new-generation-horizon-international-service-platform/',\n",
       "       'https://www.auchan-retail.com/en/strategic-partnership-between-auchan-retail-casino-group-metro-and-schiever-group/',\n",
       "       'https://www.auchan-retail.com/en/ok-google-i-wish-to-speak-with-an-auchan-wine-expert/',\n",
       "       'https://www.auchan-retail.com/en/connected-devices-auchan-retail-boulanger-and-leroy-merlin-are-democratising-smart-homes-to-facilitate-everyones-daily-lives-with-enki-they-now-have-a-shared-ecosystem/',\n",
       "       'https://www.auchan-retail.com/en/auchan-retail-and-casino-group-enter-into-exclusive-talks-to-build-a-global-strategic-partnership-for-their-food-and-non-food-purchases/',\n",
       "       'https://www.auchan-retail.com/en/new-appointement-within-auchan-retail/'],\n",
       "      dtype=object)"
      ]
     },
     "metadata": {},
     "execution_count": 18
    }
   ],
   "source": [
    "data = pd.read_excel('auchan_glob.xlsx')\n",
    "data['link'].values"
   ]
  },
  {
   "cell_type": "code",
   "execution_count": 16,
   "metadata": {},
   "outputs": [
    {
     "output_type": "execute_result",
     "data": {
      "text/plain": [
       "'https://www.auchan-retail.com/en/auchan-retail-sells-its-chinese-subsidiary-sunart-to-its-partner-alibaba/'"
      ]
     },
     "metadata": {},
     "execution_count": 16
    }
   ],
   "source": [
    "data[\"link\"][2]"
   ]
  },
  {
   "cell_type": "code",
   "execution_count": null,
   "metadata": {},
   "outputs": [],
   "source": []
  }
 ]
}