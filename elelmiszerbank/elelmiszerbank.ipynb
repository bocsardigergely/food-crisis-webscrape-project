{
 "metadata": {
  "language_info": {
   "codemirror_mode": {
    "name": "ipython",
    "version": 3
   },
   "file_extension": ".py",
   "mimetype": "text/x-python",
   "name": "python",
   "nbconvert_exporter": "python",
   "pygments_lexer": "ipython3",
   "version": "3.8.3"
  },
  "orig_nbformat": 2,
  "kernelspec": {
   "name": "python3",
   "display_name": "Python 3.8.3 64-bit ('base': conda)",
   "metadata": {
    "interpreter": {
     "hash": "b3ba2566441a7c06988d0923437866b63cedc61552a5af99d1f4fb67d367b25f"
    }
   }
  }
 },
 "nbformat": 4,
 "nbformat_minor": 2,
 "cells": [
  {
   "cell_type": "code",
   "execution_count": 1,
   "metadata": {},
   "outputs": [],
   "source": [
    "import requests\n",
    "from bs4 import BeautifulSoup\n",
    "import numpy as np\n",
    "import pandas as pd\n",
    "import time"
   ]
  },
  {
   "cell_type": "code",
   "execution_count": 2,
   "metadata": {},
   "outputs": [],
   "source": [
    "r1 = requests.get('https://www.elelmiszerbank.hu/hu/hirek/hireink.html')\n",
    "coverpage = r1.content\n",
    "soup1 = BeautifulSoup(coverpage, 'html5lib')"
   ]
  },
  {
   "cell_type": "code",
   "execution_count": 3,
   "metadata": {},
   "outputs": [],
   "source": [
    "coverpage_news = soup1.find_all('div', class_=\"col-xs-12 col-sm-6 newsSub\")"
   ]
  },
  {
   "cell_type": "code",
   "execution_count": 4,
   "metadata": {},
   "outputs": [],
   "source": [
    "links = []\n",
    "dates = []\n",
    "for i in range(len(coverpage_news)):\n",
    "    date = coverpage_news[i].find('b').get_text()\n",
    "    link = 'https://www.elelmiszerbank.hu/'+str(coverpage_news[i].find('a').get('href',''))\n",
    "    if date.startswith('2019') or date.startswith('2020') or date.startswith('2021'):\n",
    "        dates.append(date)\n",
    "        links.append(link)"
   ]
  },
  {
   "cell_type": "code",
   "execution_count": 5,
   "metadata": {},
   "outputs": [
    {
     "output_type": "stream",
     "name": "stdout",
     "text": [
      "1/77 0.22059416770935059\n",
      "2/77 0.43357229232788086\n",
      "3/77 0.6139414310455322\n",
      "4/77 0.797459602355957\n",
      "5/77 0.9767310619354248\n",
      "6/77 1.1609561443328857\n",
      "7/77 1.3412718772888184\n",
      "8/77 1.5215075016021729\n",
      "9/77 1.7390880584716797\n",
      "10/77 1.9037463665008545\n",
      "11/77 2.079948663711548\n",
      "12/77 2.268897294998169\n",
      "13/77 2.452613592147827\n",
      "14/77 2.637150764465332\n",
      "15/77 2.8206186294555664\n",
      "16/77 2.978445291519165\n",
      "17/77 3.1506571769714355\n",
      "18/77 3.327958822250366\n",
      "19/77 3.4947280883789062\n",
      "20/77 3.6803207397460938\n",
      "21/77 3.855842351913452\n",
      "22/77 4.04983377456665\n",
      "23/77 4.234265327453613\n",
      "24/77 4.513328313827515\n",
      "25/77 4.711373567581177\n",
      "26/77 4.922644853591919\n",
      "27/77 5.105323791503906\n",
      "28/77 5.2945380210876465\n",
      "29/77 5.455806255340576\n",
      "30/77 5.629277944564819\n",
      "31/77 5.823836326599121\n",
      "32/77 6.035254716873169\n",
      "33/77 6.219106674194336\n",
      "34/77 6.414527177810669\n",
      "35/77 6.627329349517822\n",
      "36/77 6.826884984970093\n",
      "37/77 6.995508193969727\n",
      "38/77 7.201028347015381\n",
      "39/77 7.389436483383179\n",
      "40/77 7.575804948806763\n",
      "41/77 7.768033742904663\n",
      "42/77 7.954533100128174\n",
      "43/77 8.139938354492188\n",
      "44/77 8.347128629684448\n",
      "45/77 8.511987924575806\n",
      "46/77 8.68785810470581\n",
      "47/77 8.865583658218384\n",
      "48/77 9.074085712432861\n",
      "49/77 9.330308437347412\n",
      "50/77 9.520061016082764\n",
      "51/77 9.718255043029785\n",
      "52/77 9.903737306594849\n",
      "53/77 10.104295253753662\n",
      "54/77 10.299891710281372\n",
      "55/77 10.488620281219482\n",
      "56/77 10.675078868865967\n",
      "57/77 10.858434200286865\n",
      "58/77 11.035760402679443\n",
      "59/77 11.219231367111206\n",
      "60/77 11.407857656478882\n",
      "61/77 11.591056823730469\n",
      "62/77 11.77883791923523\n",
      "63/77 11.959261894226074\n",
      "64/77 12.166468620300293\n",
      "65/77 12.344496965408325\n",
      "66/77 12.60372257232666\n",
      "67/77 12.79568099975586\n",
      "68/77 12.971450805664062\n",
      "69/77 13.147956132888794\n",
      "70/77 13.320201635360718\n",
      "71/77 13.508337497711182\n",
      "72/77 13.704129457473755\n",
      "73/77 13.894604444503784\n",
      "74/77 14.066601276397705\n",
      "75/77 14.388603925704956\n",
      "76/77 14.59098744392395\n",
      "77/77 14.769359350204468\n"
     ]
    }
   ],
   "source": [
    "cikkek_adatai = []\n",
    "start = time.time()\n",
    "counter = 0\n",
    "for m in links:\n",
    "    # link\n",
    "    article = requests.get(m)\n",
    "    article_content = article.content\n",
    "    soup_article = BeautifulSoup(article_content, 'html5lib')\n",
    "\n",
    "    #date\n",
    "    date = dates[counter]\n",
    "    \n",
    "    # cím\n",
    "    title_raw = soup_article.select(\"h2\")\n",
    "    if len(title_raw)>0:\n",
    "        title = title_raw[0].get_text(strip=True)\n",
    "\n",
    "    # törzsszöveg\n",
    "    body = soup_article.find('div', class_=\"col-xs-12 NewsSub\")\n",
    "    szoveg = body.get_text(strip=True)\n",
    "    \n",
    "    # putting it together\n",
    "    cikkek_adatai.append([date, title, szoveg, m])\n",
    "    end = time.time()\n",
    "    counter += 1\n",
    "    print(str(counter) + '/' + str(len(links)), end - start)\n"
   ]
  },
  {
   "cell_type": "code",
   "execution_count": 6,
   "metadata": {},
   "outputs": [],
   "source": [
    "df = pd.DataFrame(data=cikkek_adatai)\n",
    "df.columns = ['dátum','cím', 'szöveg', 'link']\n",
    "with pd.ExcelWriter('elemiszerbank.xlsx') as writer:  \n",
    "    df.to_excel(writer, sheet_name='hu')"
   ]
  },
  {
   "cell_type": "code",
   "execution_count": null,
   "metadata": {},
   "outputs": [],
   "source": []
  }
 ]
}