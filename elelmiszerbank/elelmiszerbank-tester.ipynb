{
 "metadata": {
  "language_info": {
   "codemirror_mode": {
    "name": "ipython",
    "version": 3
   },
   "file_extension": ".py",
   "mimetype": "text/x-python",
   "name": "python",
   "nbconvert_exporter": "python",
   "pygments_lexer": "ipython3",
   "version": "3.8.3"
  },
  "orig_nbformat": 2,
  "kernelspec": {
   "name": "python3",
   "display_name": "Python 3.8.3 64-bit ('base': conda)",
   "metadata": {
    "interpreter": {
     "hash": "b3ba2566441a7c06988d0923437866b63cedc61552a5af99d1f4fb67d367b25f"
    }
   }
  }
 },
 "nbformat": 4,
 "nbformat_minor": 2,
 "cells": [
  {
   "cell_type": "code",
   "execution_count": 1,
   "metadata": {},
   "outputs": [],
   "source": [
    "import requests\n",
    "from bs4 import BeautifulSoup\n",
    "import numpy as np"
   ]
  },
  {
   "cell_type": "code",
   "execution_count": 3,
   "metadata": {},
   "outputs": [],
   "source": [
    "r1 = requests.get('https://www.elelmiszerbank.hu/hu/hirek/hireink.html')\n",
    "coverpage = r1.content\n",
    "soup1 = BeautifulSoup(coverpage, 'html5lib')\n"
   ]
  },
  {
   "cell_type": "code",
   "execution_count": 11,
   "metadata": {},
   "outputs": [
    {
     "output_type": "execute_result",
     "data": {
      "text/plain": [
       "True"
      ]
     },
     "metadata": {},
     "execution_count": 11
    }
   ],
   "source": [
    "coverpage_news = soup1.find_all('div', class_=\"col-xs-12 col-sm-6 newsSub\")\n",
    "link = coverpage_news[0].find('a').get('href','')\n",
    "date = coverpage_news[0].find('b').get_text()\n",
    "date.startswith('2021')"
   ]
  },
  {
   "cell_type": "code",
   "execution_count": 12,
   "metadata": {},
   "outputs": [],
   "source": [
    "links = []\n",
    "dates = []\n",
    "for i in range(len(coverpage_news)):\n",
    "    date = coverpage_news[i].find('b').get_text()\n",
    "    link = 'https://www.elelmiszerbank.hu/'+str(coverpage_news[i].find('a').get('href',''))\n",
    "    if date.startswith('2019') or date.startswith('2020') or date.startswith('2021'):\n",
    "        dates.append(date)\n",
    "        links.append(link)"
   ]
  },
  {
   "cell_type": "code",
   "execution_count": 16,
   "metadata": {},
   "outputs": [],
   "source": [
    "article = requests.get(links[0])\n"
   ]
  },
  {
   "cell_type": "code",
   "execution_count": 18,
   "metadata": {},
   "outputs": [],
   "source": [
    "article_content = article.content\n",
    "soup_article = BeautifulSoup(article_content, 'html5lib')"
   ]
  },
  {
   "cell_type": "code",
   "execution_count": 20,
   "metadata": {},
   "outputs": [
    {
     "output_type": "execute_result",
     "data": {
      "text/plain": [
       "'Miskolcon nyitott új raktárat az Élelmiszerbank'"
      ]
     },
     "metadata": {},
     "execution_count": 20
    }
   ],
   "source": [
    "title_raw = soup_article.select(\"h2\")\n",
    "title = title_raw[0].get_text()\n",
    "title.strip()"
   ]
  },
  {
   "cell_type": "code",
   "execution_count": 24,
   "metadata": {},
   "outputs": [
    {
     "output_type": "execute_result",
     "data": {
      "text/plain": [
       "'Miskolcon nyitott új raktárat az ÉlelmiszerbankMegkezdte működését a Magyar Élelmiszerbank Egyesület új telephelye Miskolcon. A helyi Élelmiszerbank célja, hogy közelebb vigyék a segítséget a Borsod-Abaúj-Zemplén megyei nélkülözőkhöz, a helyi élelmiszerforgalmazó és -gyártó cégek támogatásával hatékonyabb ellátást biztosítsanak a térségben működő karitatív szervezeteknek, és több mentett élelmiszer jusson oda, ahol a legnagyobb szükség van rá.Miskolc, 2021. március 30.Magyarországon minden évben 1,8 millió tonna élelmiszer megy veszendőbe. Az Élelmiszerbank célja, hogy kapcsolatot teremtsen a felhalmozódó élelmiszerfeleslegek és a rászorulók között, és ezzel segítse az éhezés, az élelmiszerpazarlás csökkenését Magyarországon.A budapesti központtal működő Élelmiszerbank országos lefedettségét az Egyesület mintegy 450 partnerszervezete biztosítja, akiknek köszönhetően évente több, mint 250.000 nélkülözőhöz jut el élelmiszeradomány, 2020-ban összesen 8.400 tonna mennyiségben, 7 milliárd forint értékben.Az Élelmiszerbank hosszú távú célja, egy erős vidéki hálózat kialakítása, amely az egyes régiókban élők helyzetét megkönnyítené, élelmiszerhez jutását költséghatékonyabbá tenné. A járványügyi helyzet, a nélkülözők számának növekedése, az igények bővülése miatt a Magyar Élelmiszerbank Egyesület úgy döntött, hogy következő logisztikai bázisát Miskolcon nyitja meg.Borsod-Abaúj-Zemplén megyében az Élelmiszerbank több mint 30 partnerszervezetén keresztül közel 25.000 nélkülözőt – gyermekeket, családokat, időseket, fogyatékkal élőket, hajléktalanokat -\\xa0 lát el mentett élelmiszerekből készített csomagokkal.„A helyi Élelmiszerbank létrehozásával a fő célunk, hogy a környéken működő partnerszervezeteink logisztikai költségeinek csökkentésével hatékonyabban segítsük a nélkülözők ellátását, a régió vállalatainak bevonásával pedig növelni tudjuk a mentett élelmiszerek mennyiségét.\\xa0 Az helyi Élelmiszerbank megnyitásával még több embernek szeretnénk hathatós segítséget nyújtani a térségben.” – mondta Cseh Balázs, a Magyar Élelmiszerbank elnöke.“Miskolc önkormányzata számára rendkívül fontos, hogy segítséget nyújthasson a nehéz helyzetben lévőknek, azoknak, akik szociális körülményeik vagy más problémáik miatt erre rászorulnak. A segítségnyújtás során fontos, hogy létrejöhessenek olyan kezdeményezések, amelyek ezt a város számára kitűzött jelentős célt szolgálják, segítik. Éppen ezért rendkívüli öröm számomra, hogy Miskolcon nyitotta meg új raktárát az Élelmiszerbank.” – mondta el Varga Andrea, Miskolc Megyei Jogú Város alpolgármestere.„A Magyar Élelmiszerbank Egyesület karitatív munkája sok miskolci és környékbeli családnak nyújthat segítséget, megkönnyítve mindennapjaikat, hozzájárulva ahhoz, hogy megfelelő élelmiszerekhez jussanak. Bízom abban, hogy a most megnyitásra kerülő élelmiszerraktár minél több személy számára nyújthat megfelelő segítséget, valamint minél többen csatlakoznak a Magyar Élelmiszerbank Egyesület által kitűzött célok támogatásához.” – nyilatkozta az Alpolgármester.Az új raktár felszerelését és működtetésének első évét támogatja a CIB Bank anyavállalata, az Intesa Sanpaolo Csoport. A Magyar Élelmiszerbank Egyesület a Szlovén Élelmiszerbankkal közösen tavaly nyújtott be sikeres pályázatot a bankcsoport jótékonysági alapjához, az Intesa Sanpaolo Charity Fund-jához, hogy megvalósíthassa a „Food, no Waste” („Ételt, ne hulladékot!”) kezdeményezését.Az új telephely működtetését a Tesco is támogatja: a vállalat amellett, hogy a térségben működő áruházaiból is napi szinten rászorulóknak ajánlja fel az élelmiszerfelesleget, s azt az Élelmiszerbank partnerszervezetein keresztül eljuttatja a rászorulókhoz, most az élelmiszeradományok szállítására alkalmas kisteherautó adományozásával is segíti az Egyesület munkáját.'"
      ]
     },
     "metadata": {},
     "execution_count": 24
    }
   ],
   "source": [
    "body = soup_article.find('div', class_=\"col-xs-12 NewsSub\")\n",
    "body.get_text(strip=True)\n"
   ]
  },
  {
   "cell_type": "code",
   "execution_count": null,
   "metadata": {},
   "outputs": [],
   "source": []
  }
 ]
}