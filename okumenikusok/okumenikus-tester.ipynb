{
 "metadata": {
  "language_info": {
   "codemirror_mode": {
    "name": "ipython",
    "version": 3
   },
   "file_extension": ".py",
   "mimetype": "text/x-python",
   "name": "python",
   "nbconvert_exporter": "python",
   "pygments_lexer": "ipython3",
   "version": "3.8.3"
  },
  "orig_nbformat": 2,
  "kernelspec": {
   "name": "python3",
   "display_name": "Python 3.8.3 64-bit ('base': conda)",
   "metadata": {
    "interpreter": {
     "hash": "b3ba2566441a7c06988d0923437866b63cedc61552a5af99d1f4fb67d367b25f"
    }
   }
  }
 },
 "nbformat": 4,
 "nbformat_minor": 2,
 "cells": [
  {
   "cell_type": "code",
   "execution_count": 3,
   "metadata": {},
   "outputs": [],
   "source": [
    "import requests\n",
    "from bs4 import BeautifulSoup\n",
    "import numpy as np"
   ]
  },
  {
   "cell_type": "code",
   "execution_count": 16,
   "metadata": {},
   "outputs": [],
   "source": [
    "r1 = requests.get('https://segelyszervezet.hu/sajtokozlemenyek/?offset=1')\n",
    "coverpage = r1.content\n",
    "soup1 = BeautifulSoup(coverpage, 'html5lib')"
   ]
  },
  {
   "cell_type": "code",
   "execution_count": 29,
   "metadata": {},
   "outputs": [
    {
     "output_type": "execute_result",
     "data": {
      "text/plain": [
       "'2021.04.01.'"
      ]
     },
     "metadata": {},
     "execution_count": 29
    }
   ],
   "source": [
    "coverpage_news = soup1.find_all('article',class_=\"card card--article col-md-3\")\n",
    "coverpage_news[0]\n",
    "link = coverpage_news[0].find('a').get('href','')\n",
    "date = coverpage_news[0].find('time').get_text()\n"
   ]
  },
  {
   "cell_type": "code",
   "execution_count": null,
   "metadata": {},
   "outputs": [],
   "source": [
    "links = []\n",
    "dates = []\n",
    "for i in range(len(coverpage_news)):\n",
    "    date = coverpage_news[i].find('b').get_text()\n",
    "    link = coverpage_news[i].find('time').get_text()\n",
    "\n",
    "        dates.append(date)\n",
    "        links.append(link)"
   ]
  },
  {
   "cell_type": "code",
   "execution_count": 31,
   "metadata": {},
   "outputs": [],
   "source": [
    "links = []\n",
    "dates = []\n",
    "for i in range(1,14):\n",
    "    r1 = requests.get('https://segelyszervezet.hu/sajtokozlemenyek/?offset='+str(i))\n",
    "    coverpage = r1.content\n",
    "    soup1 = BeautifulSoup(coverpage, 'html5lib')\n",
    "    coverpage_news = soup1.find_all('article',class_=\"card card--article col-md-3\")\n",
    "    for j in range(len(coverpage_news)):\n",
    "        date = coverpage_news[j].find('time').get_text()\n",
    "        link = coverpage_news[j].find('a').get('href','')\n",
    "        dates.append(date)\n",
    "        links.append(link)\n"
   ]
  },
  {
   "cell_type": "code",
   "execution_count": 68,
   "metadata": {},
   "outputs": [
    {
     "output_type": "stream",
     "name": "stdout",
     "text": [
      "https://segelyszervezet.hu/sajtokozlemenyek/a-segelyszervezet-kozpontjainak-adott-at-teqball-asztalokat-ronaldinho-a-vilagbajnoksag-elso-napjan/\n"
     ]
    }
   ],
   "source": [
    "len(links)\n",
    "print(links[95])"
   ]
  },
  {
   "cell_type": "code",
   "execution_count": 60,
   "metadata": {},
   "outputs": [],
   "source": [
    "article = requests.get(links[95])\n",
    "article_content = article.content\n",
    "\n",
    "soup_article = BeautifulSoup(article_content, 'html5lib')"
   ]
  },
  {
   "cell_type": "code",
   "execution_count": 61,
   "metadata": {},
   "outputs": [
    {
     "output_type": "execute_result",
     "data": {
      "text/plain": [
       "'A Segélyszervezet központjainak adott át teqball asztalokat Ronaldinho a világbajnokság első napján'"
      ]
     },
     "metadata": {},
     "execution_count": 61
    }
   ],
   "source": [
    "title_raw = soup_article.select(\"h1\")\n",
    "title = title_raw[0].get_text(strip=True)\n",
    "title"
   ]
  },
  {
   "cell_type": "code",
   "execution_count": 65,
   "metadata": {},
   "outputs": [
    {
     "output_type": "execute_result",
     "data": {
      "text/plain": [
       "'A budapesti teqball-világbajnokság indító napjára december 6-án, azaz éppen Mikulás napján kerül sor Budapesten. A világversenyt szervező Nemzetközi Teqball Szövetség a nyitónapon 100 hátrányos helyzetű gyermeket látott vendégül az Ökumenikus Segélyszervezet rászoruló gyermekeket segítő intézményeinek látóköréből.'"
      ]
     },
     "metadata": {},
     "execution_count": 65
    }
   ],
   "source": [
    "body = soup_article.find_all('p')\n",
    "body[1].get_text(strip=True)"
   ]
  },
  {
   "cell_type": "code",
   "execution_count": 66,
   "metadata": {},
   "outputs": [
    {
     "output_type": "execute_result",
     "data": {
      "text/plain": [
       "[<p>A budapesti teqball-világbajnokság indító napjára december 6-án, azaz éppen Mikulás napján kerül sor Budapesten. A világversenyt szervező Nemzetközi Teqball Szövetség a nyitónapon 100 hátrányos helyzetű gyermeket látott vendégül az Ökumenikus Segélyszervezet rászoruló gyermekeket segítő intézményeinek látóköréből.</p>,\n",
       " <p>A gyermekek lehetőséget kaptak néhány teqball-mérkőzés megtekintésére, megismerkedhettek a teqball-lal, illetve a bekapcsolódhattak a VB helyszínére szervezett játékos gyerekprogramokba.</p>,\n",
       " <p>A különleges programhoz adományozási akció is csatlakozott: a Nemzetközi Teqball Szövetség 5 darab teqball asztalt adományozott az Ökumenikus Segélyszervezetnek, melyből 2 db asztal a karitatív szervezet kastélyosdombói gyermektáborába, míg 1-1 darab a boldogkőújfalui, a vizsolyi és a csepeli közösségi pontjára kerül.</p>]"
      ]
     },
     "metadata": {},
     "execution_count": 66
    }
   ],
   "source": [
    "body[1:4]"
   ]
  },
  {
   "cell_type": "code",
   "execution_count": 67,
   "metadata": {},
   "outputs": [
    {
     "output_type": "execute_result",
     "data": {
      "text/plain": [
       "' A budapesti teqball-világbajnokság indító napjára december 6-án, azaz éppen Mikulás napján kerül sor Budapesten. A világversenyt szervező Nemzetközi Teqball Szövetség a nyitónapon 100 hátrányos helyzetű gyermeket látott vendégül az Ökumenikus Segélyszervezet rászoruló gyermekeket segítő intézményeinek látóköréből. A gyermekek lehetőséget kaptak néhány teqball-mérkőzés megtekintésére, megismerkedhettek a teqball-lal, illetve a bekapcsolódhattak a VB helyszínére szervezett játékos gyerekprogramokba. A különleges programhoz adományozási akció is csatlakozott: a Nemzetközi Teqball Szövetség 5 darab teqball asztalt adományozott az Ökumenikus Segélyszervezetnek, melyből 2 db asztal a karitatív szervezet kastélyosdombói gyermektáborába, míg 1-1 darab a boldogkőújfalui, a vizsolyi és a csepeli közösségi pontjára kerül. Az adományt jelképező táblát a szövetség nemzetközi nagykövete, Ronaldinho személyesen adta át Gáncs Kristófnak, az Ökumenikus Segélyszervezet kommunikációs igazgatójának. A világsztár az adományok átadását követően egy kis játékra is szakított időt: a segélyszervezet miskolci közösségi pontjáról érkező gyermekeknek szerzett életre szóló élményt azzal, hogy mutatott egy két trükköt a Teqball asztalnál.'"
      ]
     },
     "metadata": {},
     "execution_count": 67
    }
   ],
   "source": [
    "final_article = \"\"\n",
    "for i in range(1, len(body)-12):\n",
    "    final_article += ' ' + body[i].get_text(strip=True)\n",
    "\n",
    "final_article"
   ]
  },
  {
   "cell_type": "code",
   "execution_count": null,
   "metadata": {},
   "outputs": [],
   "source": []
  }
 ]
}